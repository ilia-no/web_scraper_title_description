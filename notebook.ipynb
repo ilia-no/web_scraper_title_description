{
 "cells": [
  {
   "cell_type": "code",
   "execution_count": 44,
   "metadata": {},
   "outputs": [],
   "source": [
    "import cloudscraper\n",
    "from bs4 import BeautifulSoup\n",
    "\n",
    "import pandas as pd\n",
    "import multiprocessing as mp\n",
    "from glob import glob"
   ]
  },
  {
   "cell_type": "code",
   "execution_count": 63,
   "metadata": {},
   "outputs": [],
   "source": [
    "def get_captcha_provider(\n",
    "    api_key=None,\n",
    "    provider_name=\"2captcha\"\n",
    "):\n",
    "    if api_key:\n",
    "        return dict(\n",
    "            provider=provider_name,\n",
    "            api_key=\"YOUR_2CAPTCHA_API\",\n",
    "        )\n",
    "    else:\n",
    "        return None"
   ]
  },
  {
   "cell_type": "code",
   "execution_count": 74,
   "metadata": {},
   "outputs": [],
   "source": [
    "CAPTCHA_API = None\n",
    "CAPTCHA_PROVIDER = get_captcha_provider(CAPTCHA_API)\n",
    "LOAD_DELAY=5"
   ]
  },
  {
   "cell_type": "code",
   "execution_count": 65,
   "metadata": {},
   "outputs": [],
   "source": [
    "def get_urls(path, start=0, end=None, column_name='Location on Site', sep=','):\n",
    "    urls = pd.read_csv(path, sep=sep)[column_name].tolist()\n",
    "    if end is None:\n",
    "        end = len(urls)\n",
    "    \n",
    "    return urls[start:end]"
   ]
  },
  {
   "cell_type": "code",
   "execution_count": 90,
   "metadata": {},
   "outputs": [
    {
     "name": "stdout",
     "output_type": "stream",
     "text": [
      "10087\n"
     ]
    },
    {
     "data": {
      "text/plain": [
       "['djbet888.com',\n",
       " 'djbet9.co',\n",
       " 'djbet9.com',\n",
       " 'djbet9.net',\n",
       " 'novawebmaroc.com.djbonafit.com;rtpbonafit88.pro.djbonafit.com;rtpbonafit88.xyz.djbonafit.com']"
      ]
     },
     "execution_count": 90,
     "metadata": {},
     "output_type": "execute_result"
    }
   ],
   "source": [
    "URLS = get_urls(glob('*.csv')[0])\n",
    "print(len(URLS))\n",
    "URLS[:5]"
   ]
  },
  {
   "cell_type": "code",
   "execution_count": 67,
   "metadata": {},
   "outputs": [],
   "source": [
    "def get_url(url, secure=True):\n",
    "    if '://' not in url:\n",
    "        protocol = 'https' if secure else \"http\"\n",
    "        url = protocol + '://' + url\n",
    "    print(f'{url=}')\n",
    "    return url"
   ]
  },
  {
   "cell_type": "code",
   "execution_count": 101,
   "metadata": {},
   "outputs": [],
   "source": [
    "def fetch_site(url, captcha_provider=CAPTCHA_PROVIDER) -> str:\n",
    "    url = get_url(url)\n",
    "    scraper = cloudscraper.create_scraper(\n",
    "        interpreter=\"nodejs\",\n",
    "        delay=LOAD_DELAY,\n",
    "        browser={\n",
    "            \"browser\": \"chrome\",\n",
    "            \"platform\": \"windows\",\n",
    "            \"desktop\": True,\n",
    "        },\n",
    "        captcha=captcha_provider,\n",
    "    )\n",
    "\n",
    "    response = scraper.get(url)\n",
    "    print(f'{response.status_code=}')\n",
    "\n",
    "    if response.status_code == 200:\n",
    "        # Return the HTML content of the webpage\n",
    "        return response.content\n",
    "    else:\n",
    "        # Print an error message if the request fails\n",
    "        print(f\"Failed to fetch URL: {url}. Status code: {response.status_code}\")\n",
    "        return None\n",
    "\n",
    "def get_title(soup):\n",
    "    title = soup.find('meta', {'property': 'og:title'})\n",
    "    if title:\n",
    "        title = title['content']\n",
    "    else:\n",
    "        title = soup.find('title').string if soup.title else None\n",
    "    return title    \n",
    "\n",
    "\n",
    "def get_description(soup):\n",
    "    description = soup.find('meta', {'property': 'og:description'})\n",
    "    if description:\n",
    "        description = description['content']\n",
    "    else:\n",
    "        description = soup.find('meta', {'name': 'description'})['content'] if soup.find('meta', {'name': 'description'}) else None\n",
    "    return description\n",
    "\n",
    "\n",
    "def fetch_meta_from_page_content(content):\n",
    "    if content is None:\n",
    "        return None\n",
    "    \n",
    "    soup = BeautifulSoup(content, 'html.parser')\n",
    "    head = soup.head\n",
    "\n",
    "    title = get_title(head)\n",
    "    description = get_description(head)\n",
    "\n",
    "    print(f'{title=} {description=}')\n",
    "    return dict(title=title, description=description)\n",
    "\n",
    "\n",
    "def fetch_meta(url):\n",
    "    content = fetch_site(url)\n",
    "    meta = fetch_meta_from_page_content(content)\n",
    "    print(f'{url=} {meta=}')\n",
    "    return meta"
   ]
  },
  {
   "cell_type": "code",
   "execution_count": 102,
   "metadata": {},
   "outputs": [],
   "source": [
    "diamonds = 'amauryjewelry.com'"
   ]
  },
  {
   "cell_type": "code",
   "execution_count": 104,
   "metadata": {},
   "outputs": [
    {
     "name": "stdout",
     "output_type": "stream",
     "text": [
      "url='https://amauryjewelry.com'\n",
      "response.status_code=200\n",
      "title='Amaury' description='Amaury'\n",
      "url='amauryjewelry.com' meta={'title': 'Amaury', 'description': 'Amaury'}\n"
     ]
    },
    {
     "data": {
      "text/plain": [
       "{'title': 'Amaury', 'description': 'Amaury'}"
      ]
     },
     "execution_count": 104,
     "metadata": {},
     "output_type": "execute_result"
    }
   ],
   "source": [
    "fetch_meta(diamonds)"
   ]
  },
  {
   "cell_type": "code",
   "execution_count": 106,
   "metadata": {},
   "outputs": [
    {
     "name": "stdout",
     "output_type": "stream",
     "text": [
      "url='https://djbet888.com'\n",
      "response.status_code=200\n",
      "title='综合平台官方直营_十年信誉' description=None\n",
      "url='djbet888.com' meta={'title': '综合平台官方直营_十年信誉', 'description': None}\n",
      "url='https://djbet9.co'\n",
      "response.status_code=200\n",
      "title='综合平台官方直营_十年信誉' description=None\n",
      "url='djbet9.co' meta={'title': '综合平台官方直营_十年信誉', 'description': None}\n",
      "url='https://djbet9.com'\n",
      "response.status_code=200\n",
      "title='综合平台官方直营_十年信誉' description=None\n",
      "url='djbet9.com' meta={'title': '综合平台官方直营_十年信誉', 'description': None}\n",
      "url='https://djbet9.net'\n",
      "response.status_code=200\n",
      "title='综合平台官方直营_十年信誉' description=None\n",
      "url='djbet9.net' meta={'title': '综合平台官方直营_十年信誉', 'description': None}\n",
      "url='https://djbpattaya.com'\n",
      "response.status_code=200\n",
      "title='D Varee Jomtien Beach, Pattaya' description='The best 4-star hotel in Jomtien Beach, Pattaya. Book direct a get 30% off from the best available ocean view room rate. D Varee Jomtien Beach, Pattaya'\n",
      "url='djbpattaya.com' meta={'title': 'D Varee Jomtien Beach, Pattaya', 'description': 'The best 4-star hotel in Jomtien Beach, Pattaya. Book direct a get 30% off from the best available ocean view room rate. D Varee Jomtien Beach, Pattaya'}\n"
     ]
    }
   ],
   "source": [
    "for url in URLS[:6]:\n",
    "    if ';' in url:\n",
    "        url = url.split(';')[0]\n",
    "    fetch_meta(url)"
   ]
  },
  {
   "cell_type": "code",
   "execution_count": 38,
   "metadata": {},
   "outputs": [],
   "source": [
    "def fetch_meta_mp(urls, n_jobs=2):\n",
    "    p = mp.Pool(n_jobs)\n",
    "    result = p.map(fetch_meta, urls)\n",
    "    print(result)"
   ]
  },
  {
   "cell_type": "code",
   "execution_count": 107,
   "metadata": {},
   "outputs": [
    {
     "name": "stderr",
     "output_type": "stream",
     "text": [
      "Process SpawnPoolWorker-6:\n",
      "Process SpawnPoolWorker-5:\n",
      "Traceback (most recent call last):\n",
      "Traceback (most recent call last):\n",
      "  File \"/Users/wqqco/miniconda3/lib/python3.11/multiprocessing/process.py\", line 314, in _bootstrap\n",
      "    self.run()\n",
      "  File \"/Users/wqqco/miniconda3/lib/python3.11/multiprocessing/process.py\", line 314, in _bootstrap\n",
      "    self.run()\n",
      "  File \"/Users/wqqco/miniconda3/lib/python3.11/multiprocessing/process.py\", line 108, in run\n",
      "    self._target(*self._args, **self._kwargs)\n",
      "  File \"/Users/wqqco/miniconda3/lib/python3.11/multiprocessing/process.py\", line 108, in run\n",
      "    self._target(*self._args, **self._kwargs)\n",
      "  File \"/Users/wqqco/miniconda3/lib/python3.11/multiprocessing/pool.py\", line 114, in worker\n",
      "    task = get()\n",
      "           ^^^^^\n",
      "  File \"/Users/wqqco/miniconda3/lib/python3.11/multiprocessing/pool.py\", line 114, in worker\n",
      "    task = get()\n",
      "           ^^^^^\n",
      "  File \"/Users/wqqco/miniconda3/lib/python3.11/multiprocessing/queues.py\", line 367, in get\n",
      "    return _ForkingPickler.loads(res)\n",
      "           ^^^^^^^^^^^^^^^^^^^^^^^^^^\n",
      "  File \"/Users/wqqco/miniconda3/lib/python3.11/multiprocessing/queues.py\", line 367, in get\n",
      "    return _ForkingPickler.loads(res)\n",
      "           ^^^^^^^^^^^^^^^^^^^^^^^^^^\n",
      "AttributeError: Can't get attribute 'fetch_meta' on <module '__main__' (built-in)>\n",
      "AttributeError: Can't get attribute 'fetch_meta' on <module '__main__' (built-in)>\n"
     ]
    },
    {
     "ename": "KeyboardInterrupt",
     "evalue": "",
     "output_type": "error",
     "traceback": [
      "\u001b[0;31m---------------------------------------------------------------------------\u001b[0m",
      "\u001b[0;31mKeyboardInterrupt\u001b[0m                         Traceback (most recent call last)",
      "Cell \u001b[0;32mIn[107], line 1\u001b[0m\n\u001b[0;32m----> 1\u001b[0m \u001b[43mfetch_meta_mp\u001b[49m\u001b[43m(\u001b[49m\u001b[43mURLS\u001b[49m\u001b[43m[\u001b[49m\u001b[43m:\u001b[49m\u001b[38;5;241;43m2\u001b[39;49m\u001b[43m]\u001b[49m\u001b[43m)\u001b[49m\n",
      "Cell \u001b[0;32mIn[38], line 3\u001b[0m, in \u001b[0;36mfetch_meta_mp\u001b[0;34m(urls, n_jobs)\u001b[0m\n\u001b[1;32m      1\u001b[0m \u001b[38;5;28;01mdef\u001b[39;00m \u001b[38;5;21mfetch_meta_mp\u001b[39m(urls, n_jobs\u001b[38;5;241m=\u001b[39m\u001b[38;5;241m2\u001b[39m):\n\u001b[1;32m      2\u001b[0m     \u001b[38;5;28;01mwith\u001b[39;00m Pool(n_jobs) \u001b[38;5;28;01mas\u001b[39;00m p:\n\u001b[0;32m----> 3\u001b[0m         \u001b[38;5;28;01mreturn\u001b[39;00m \u001b[43mp\u001b[49m\u001b[38;5;241;43m.\u001b[39;49m\u001b[43mmap\u001b[49m\u001b[43m(\u001b[49m\u001b[43mfetch_meta\u001b[49m\u001b[43m,\u001b[49m\u001b[43m \u001b[49m\u001b[43murls\u001b[49m\u001b[43m)\u001b[49m\n",
      "File \u001b[0;32m~/miniconda3/lib/python3.11/multiprocessing/pool.py:367\u001b[0m, in \u001b[0;36mPool.map\u001b[0;34m(self, func, iterable, chunksize)\u001b[0m\n\u001b[1;32m    362\u001b[0m \u001b[38;5;28;01mdef\u001b[39;00m \u001b[38;5;21mmap\u001b[39m(\u001b[38;5;28mself\u001b[39m, func, iterable, chunksize\u001b[38;5;241m=\u001b[39m\u001b[38;5;28;01mNone\u001b[39;00m):\n\u001b[1;32m    363\u001b[0m \u001b[38;5;250m    \u001b[39m\u001b[38;5;124;03m'''\u001b[39;00m\n\u001b[1;32m    364\u001b[0m \u001b[38;5;124;03m    Apply `func` to each element in `iterable`, collecting the results\u001b[39;00m\n\u001b[1;32m    365\u001b[0m \u001b[38;5;124;03m    in a list that is returned.\u001b[39;00m\n\u001b[1;32m    366\u001b[0m \u001b[38;5;124;03m    '''\u001b[39;00m\n\u001b[0;32m--> 367\u001b[0m     \u001b[38;5;28;01mreturn\u001b[39;00m \u001b[38;5;28;43mself\u001b[39;49m\u001b[38;5;241;43m.\u001b[39;49m\u001b[43m_map_async\u001b[49m\u001b[43m(\u001b[49m\u001b[43mfunc\u001b[49m\u001b[43m,\u001b[49m\u001b[43m \u001b[49m\u001b[43miterable\u001b[49m\u001b[43m,\u001b[49m\u001b[43m \u001b[49m\u001b[43mmapstar\u001b[49m\u001b[43m,\u001b[49m\u001b[43m \u001b[49m\u001b[43mchunksize\u001b[49m\u001b[43m)\u001b[49m\u001b[38;5;241;43m.\u001b[39;49m\u001b[43mget\u001b[49m\u001b[43m(\u001b[49m\u001b[43m)\u001b[49m\n",
      "File \u001b[0;32m~/miniconda3/lib/python3.11/multiprocessing/pool.py:768\u001b[0m, in \u001b[0;36mApplyResult.get\u001b[0;34m(self, timeout)\u001b[0m\n\u001b[1;32m    767\u001b[0m \u001b[38;5;28;01mdef\u001b[39;00m \u001b[38;5;21mget\u001b[39m(\u001b[38;5;28mself\u001b[39m, timeout\u001b[38;5;241m=\u001b[39m\u001b[38;5;28;01mNone\u001b[39;00m):\n\u001b[0;32m--> 768\u001b[0m     \u001b[38;5;28;43mself\u001b[39;49m\u001b[38;5;241;43m.\u001b[39;49m\u001b[43mwait\u001b[49m\u001b[43m(\u001b[49m\u001b[43mtimeout\u001b[49m\u001b[43m)\u001b[49m\n\u001b[1;32m    769\u001b[0m     \u001b[38;5;28;01mif\u001b[39;00m \u001b[38;5;129;01mnot\u001b[39;00m \u001b[38;5;28mself\u001b[39m\u001b[38;5;241m.\u001b[39mready():\n\u001b[1;32m    770\u001b[0m         \u001b[38;5;28;01mraise\u001b[39;00m \u001b[38;5;167;01mTimeoutError\u001b[39;00m\n",
      "File \u001b[0;32m~/miniconda3/lib/python3.11/multiprocessing/pool.py:765\u001b[0m, in \u001b[0;36mApplyResult.wait\u001b[0;34m(self, timeout)\u001b[0m\n\u001b[1;32m    764\u001b[0m \u001b[38;5;28;01mdef\u001b[39;00m \u001b[38;5;21mwait\u001b[39m(\u001b[38;5;28mself\u001b[39m, timeout\u001b[38;5;241m=\u001b[39m\u001b[38;5;28;01mNone\u001b[39;00m):\n\u001b[0;32m--> 765\u001b[0m     \u001b[38;5;28;43mself\u001b[39;49m\u001b[38;5;241;43m.\u001b[39;49m\u001b[43m_event\u001b[49m\u001b[38;5;241;43m.\u001b[39;49m\u001b[43mwait\u001b[49m\u001b[43m(\u001b[49m\u001b[43mtimeout\u001b[49m\u001b[43m)\u001b[49m\n",
      "File \u001b[0;32m~/miniconda3/lib/python3.11/threading.py:629\u001b[0m, in \u001b[0;36mEvent.wait\u001b[0;34m(self, timeout)\u001b[0m\n\u001b[1;32m    627\u001b[0m signaled \u001b[38;5;241m=\u001b[39m \u001b[38;5;28mself\u001b[39m\u001b[38;5;241m.\u001b[39m_flag\n\u001b[1;32m    628\u001b[0m \u001b[38;5;28;01mif\u001b[39;00m \u001b[38;5;129;01mnot\u001b[39;00m signaled:\n\u001b[0;32m--> 629\u001b[0m     signaled \u001b[38;5;241m=\u001b[39m \u001b[38;5;28;43mself\u001b[39;49m\u001b[38;5;241;43m.\u001b[39;49m\u001b[43m_cond\u001b[49m\u001b[38;5;241;43m.\u001b[39;49m\u001b[43mwait\u001b[49m\u001b[43m(\u001b[49m\u001b[43mtimeout\u001b[49m\u001b[43m)\u001b[49m\n\u001b[1;32m    630\u001b[0m \u001b[38;5;28;01mreturn\u001b[39;00m signaled\n",
      "File \u001b[0;32m~/miniconda3/lib/python3.11/threading.py:327\u001b[0m, in \u001b[0;36mCondition.wait\u001b[0;34m(self, timeout)\u001b[0m\n\u001b[1;32m    325\u001b[0m \u001b[38;5;28;01mtry\u001b[39;00m:    \u001b[38;5;66;03m# restore state no matter what (e.g., KeyboardInterrupt)\u001b[39;00m\n\u001b[1;32m    326\u001b[0m     \u001b[38;5;28;01mif\u001b[39;00m timeout \u001b[38;5;129;01mis\u001b[39;00m \u001b[38;5;28;01mNone\u001b[39;00m:\n\u001b[0;32m--> 327\u001b[0m         \u001b[43mwaiter\u001b[49m\u001b[38;5;241;43m.\u001b[39;49m\u001b[43macquire\u001b[49m\u001b[43m(\u001b[49m\u001b[43m)\u001b[49m\n\u001b[1;32m    328\u001b[0m         gotit \u001b[38;5;241m=\u001b[39m \u001b[38;5;28;01mTrue\u001b[39;00m\n\u001b[1;32m    329\u001b[0m     \u001b[38;5;28;01melse\u001b[39;00m:\n",
      "\u001b[0;31mKeyboardInterrupt\u001b[0m: "
     ]
    }
   ],
   "source": [
    "fetch_meta_mp(URLS[:2])"
   ]
  },
  {
   "cell_type": "code",
   "execution_count": 3,
   "metadata": {},
   "outputs": [
    {
     "name": "stdout",
     "output_type": "stream",
     "text": [
      "Collecting pyperclip\n",
      "  Using cached pyperclip-1.8.2-py3-none-any.whl\n",
      "Installing collected packages: pyperclip\n",
      "Successfully installed pyperclip-1.8.2\n",
      "\n",
      "\u001b[1m[\u001b[0m\u001b[34;49mnotice\u001b[0m\u001b[1;39;49m]\u001b[0m\u001b[39;49m A new release of pip is available: \u001b[0m\u001b[31;49m23.2.1\u001b[0m\u001b[39;49m -> \u001b[0m\u001b[32;49m24.0\u001b[0m\n",
      "\u001b[1m[\u001b[0m\u001b[34;49mnotice\u001b[0m\u001b[1;39;49m]\u001b[0m\u001b[39;49m To update, run: \u001b[0m\u001b[32;49mpip install --upgrade pip\u001b[0m\n"
     ]
    }
   ],
   "source": [
    "!pip install pyperclip"
   ]
  },
  {
   "cell_type": "code",
   "execution_count": 6,
   "metadata": {},
   "outputs": [],
   "source": [
    "import pyperclip as cb\n",
    "import json"
   ]
  },
  {
   "cell_type": "code",
   "execution_count": 10,
   "metadata": {},
   "outputs": [],
   "source": [
    "d = ['{\"title\": \"\\\\u7efc\\\\u5408\\\\u5e73\\\\u53f0\\\\u5b98\\\\u65b9\\\\u76f4\\\\u8425_\\\\u5341\\\\u5e74\\\\u4fe1\\\\u8a89\", \"description\": null, \"url\": \"djbet888.com\"}', '{\"title\": \"\\\\u7efc\\\\u5408\\\\u5e73\\\\u53f0\\\\u5b98\\\\u65b9\\\\u76f4\\\\u8425_\\\\u5341\\\\u5e74\\\\u4fe1\\\\u8a89\", \"description\": null, \"url\": \"djbet9.co\"}', '{\"title\": \"\\\\u7efc\\\\u5408\\\\u5e73\\\\u53f0\\\\u5b98\\\\u65b9\\\\u76f4\\\\u8425_\\\\u5341\\\\u5e74\\\\u4fe1\\\\u8a89\", \"description\": null, \"url\": \"djbet9.com\"}', '{\"title\": \"\\\\u7efc\\\\u5408\\\\u5e73\\\\u53f0\\\\u5b98\\\\u65b9\\\\u76f4\\\\u8425_\\\\u5341\\\\u5e74\\\\u4fe1\\\\u8a89\", \"description\": null, \"url\": \"djbet9.net\"}', '{\"title\": \"BONAFIT88 BANDAR SLOT ONLINE | AGEN TOGEL ONLINE\", \"description\": \"BONAFIT88 Merupakan Sebuah Situs judi Online Terpercaya Di Tahun Ini yang menyediakan banyak games seperti togel online, live games, games slot dan game lainnya \", \"url\": \"novawebmaroc.com.djbonafit.com\"}', '{\"title\": \"D Varee Jomtien Beach, Pattaya\", \"description\": \"The best 4-star hotel in Jomtien Beach, Pattaya. Book direct a get 30% off from the best available ocean view room rate. D Varee Jomtien Beach, Pattaya\", \"url\": \"djbpattaya.com\"}', '{\"title\": \"Chase Entertainment, Professional DJ & Photobooth Service in NY & PA\", \"description\": \"Chase Entertainment, Professional DJ\\'s & Photobooth\\'s in the Buffalo, Rochester, Syracuse New York areas, also servicing Erie PA.  Trust your special event to us! Our passion and ability to rock the dance floor sets us apart from everyone else! Contact us today to book your next event!\", \"url\": \"djbrandonchase.com\"}', '{\"title\": \"We are currently working on our website\", \"description\": null, \"url\": \"djbrandonchase.net\"}', '{\"error\": \"ConnectionError HTTPSConnectionPool(host=\\'djburnz.com\\', port=443): Max retries exceeded with url: / (Caused by NameResolutionError(\\\\\"<urllib3.connection.HTTPSConnection object at 0x16c14a0d0>: Failed to resolve \\'djburnz.com\\' ([Errno 8] nodename nor servname provided, or not known)\\\\\"))\", \"url\": \"djburnz.com\"}', '{\"error\": \"ConnectionError HTTPSConnectionPool(host=\\'djc200.com\\', port=443): Max retries exceeded with url: / (Caused by NameResolutionError(\\\\\"<urllib3.connection.HTTPSConnection object at 0x16c500110>: Failed to resolve \\'djc200.com\\' ([Errno 8] nodename nor servname provided, or not known)\\\\\"))\", \"url\": \"djc200.com\"}', '{\"error\": \"ConnectionError (\\'Connection aborted.\\', ConnectionResetError(54, \\'Connection reset by peer\\'))\", \"url\": \"djca.co.nz\"}', '{\"title\": \"DJCA | Everything your accountant isn\\\\u2019t | London Accountants\", \"description\": \"Increase your profits, reduce your costs & grow your business with your tech-powered, outsourced finance team.\", \"url\": \"djca.co.uk\"}', '{\"title\": \"Casamentos | S\\\\u00e3o Bernardo do Campo | DJ Casamento ABC\", \"description\": \"DJ para Casamento ABC tem de tudo para fazer uma festa de casamento inesquec\\\\u00edvel. Som e Ilumina\\\\u00e7\\\\u00e3o, tel\\\\u00e3o, festa de 15 anos, Retrospectivas, Sal\\\\u00e3o de Festas.\", \"url\": \"djcasamentoabc.com.br\"}', '{\"error\": \"ConnectionError HTTPSConnectionPool(host=\\'djcastro.com\\', port=443): Max retries exceeded with url: / (Caused by NameResolutionError(\\\\\"<urllib3.connection.HTTPSConnection object at 0x16fd93c10>: Failed to resolve \\'djcastro.com\\' ([Errno 8] nodename nor servname provided, or not known)\\\\\"))\", \"url\": \"djcastro.com\"}', '{\"title\": \"DJCO\", \"description\": null, \"url\": \"djco.com.au\"}', '{\"error\": \"ConnectionError (\\'Connection aborted.\\', ConnectionResetError(54, \\'Connection reset by peer\\'))\", \"url\": \"djcombo.com\"}', '{\"error\": \"ConnectionError (\\'Connection aborted.\\', ConnectionResetError(54, \\'Connection reset by peer\\'))\", \"url\": \"djcommerce.com\"}', '{\"error\": \"ConnectionError (\\'Connection aborted.\\', ConnectionResetError(54, \\'Connection reset by peer\\'))\", \"url\": \"djcpo.com\"}', {'status_code': 403, 'url': 'https://djcre.com'}, '{\"title\": \"Djcrusher | Dj Services | Montreal, QC, Canada\", \"description\": null, \"url\": \"djcrusher.net\"}', '{\"error\": \"ConnectionError HTTPSConnectionPool(host=\\'djcrusherr.kred\\', port=443): Max retries exceeded with url: / (Caused by NameResolutionError(\\\\\"<urllib3.connection.HTTPSConnection object at 0x16cc79510>: Failed to resolve \\'djcrusherr.kred\\' ([Errno 8] nodename nor servname provided, or not known)\\\\\"))\", \"url\": \"djcrusherr.kred\"}', '{\"error\": \"ConnectionError HTTPSConnectionPool(host=\\'djd985.com\\', port=443): Max retries exceeded with url: / (Caused by NameResolutionError(\\\\\"<urllib3.connection.HTTPSConnection object at 0x16cc8f3d0>: Failed to resolve \\'djd985.com\\' ([Errno 8] nodename nor servname provided, or not known)\\\\\"))\", \"url\": \"djd985.com\"}', '{\"error\": \"ConnectionError HTTPSConnectionPool(host=\\'djdj685.com\\', port=443): Max retries exceeded with url: / (Caused by NameResolutionError(\\\\\"<urllib3.connection.HTTPSConnection object at 0x16cc7bd90>: Failed to resolve \\'djdj685.com\\' ([Errno 8] nodename nor servname provided, or not known)\\\\\"))\", \"url\": \"djdj685.com\"}', '{\"error\": \"ConnectionError HTTPSConnectionPool(host=\\'djdj868.com\\', port=443): Max retries exceeded with url: / (Caused by NameResolutionError(\\\\\"<urllib3.connection.HTTPSConnection object at 0x16cc75d50>: Failed to resolve \\'djdj868.com\\' ([Errno 8] nodename nor servname provided, or not known)\\\\\"))\", \"url\": \"djdj868.com\"}', {'status_code': 506, 'url': 'http://djdl666.app'}, '{\"title\": \"\\\\u5927\\\\u5409\\\\u5927\\\\u5229\", \"description\": \"\", \"url\": \"djdl666.com\"}', {'status_code': 506, 'url': 'http://djdl666.net'}, {'status_code': 506, 'url': 'http://djdl666.online'}, '{\"title\": \"\\\\u5927\\\\u5409\\\\u5927\\\\u5229\", \"description\": \"\", \"url\": \"djdl777.app\"}', '{\"title\": \"\\\\u5927\\\\u5409\\\\u5927\\\\u5229\", \"description\": \"\", \"url\": \"djdl777.club\"}']"
   ]
  },
  {
   "cell_type": "code",
   "execution_count": 14,
   "metadata": {},
   "outputs": [
    {
     "name": "stdout",
     "output_type": "stream",
     "text": [
      "{\"title\": \"\\u7efc\\u5408\\u5e73\\u53f0\\u5b98\\u65b9\\u76f4\\u8425_\\u5341\\u5e74\\u4fe1\\u8a89\", \"description\": null, \"url\": \"djbet888.com\"}\n",
      "{\"title\": \"\\u7efc\\u5408\\u5e73\\u53f0\\u5b98\\u65b9\\u76f4\\u8425_\\u5341\\u5e74\\u4fe1\\u8a89\", \"description\": null, \"url\": \"djbet9.co\"}\n",
      "{\"title\": \"\\u7efc\\u5408\\u5e73\\u53f0\\u5b98\\u65b9\\u76f4\\u8425_\\u5341\\u5e74\\u4fe1\\u8a89\", \"description\": null, \"url\": \"djbet9.com\"}\n",
      "{\"title\": \"\\u7efc\\u5408\\u5e73\\u53f0\\u5b98\\u65b9\\u76f4\\u8425_\\u5341\\u5e74\\u4fe1\\u8a89\", \"description\": null, \"url\": \"djbet9.net\"}\n",
      "{\"title\": \"BONAFIT88 BANDAR SLOT ONLINE | AGEN TOGEL ONLINE\", \"description\": \"BONAFIT88 Merupakan Sebuah Situs judi Online Terpercaya Di Tahun Ini yang menyediakan banyak games seperti togel online, live games, games slot dan game lainnya \", \"url\": \"novawebmaroc.com.djbonafit.com\"}\n",
      "{\"title\": \"D Varee Jomtien Beach, Pattaya\", \"description\": \"The best 4-star hotel in Jomtien Beach, Pattaya. Book direct a get 30% off from the best available ocean view room rate. D Varee Jomtien Beach, Pattaya\", \"url\": \"djbpattaya.com\"}\n",
      "{\"title\": \"Chase Entertainment, Professional DJ & Photobooth Service in NY & PA\", \"description\": \"Chase Entertainment, Professional DJ's & Photobooth's in the Buffalo, Rochester, Syracuse New York areas, also servicing Erie PA.  Trust your special event to us! Our passion and ability to rock the dance floor sets us apart from everyone else! Contact us today to book your next event!\", \"url\": \"djbrandonchase.com\"}\n",
      "{\"title\": \"We are currently working on our website\", \"description\": null, \"url\": \"djbrandonchase.net\"}\n",
      "{\"error\": \"ConnectionError HTTPSConnectionPool(host='djburnz.com', port=443): Max retries exceeded with url: / (Caused by NameResolutionError(\\\"<urllib3.connection.HTTPSConnection object at 0x16c14a0d0>: Failed to resolve 'djburnz.com' ([Errno 8] nodename nor servname provided, or not known)\\\"))\", \"url\": \"djburnz.com\"}\n",
      "{\"error\": \"ConnectionError HTTPSConnectionPool(host='djc200.com', port=443): Max retries exceeded with url: / (Caused by NameResolutionError(\\\"<urllib3.connection.HTTPSConnection object at 0x16c500110>: Failed to resolve 'djc200.com' ([Errno 8] nodename nor servname provided, or not known)\\\"))\", \"url\": \"djc200.com\"}\n",
      "{\"error\": \"ConnectionError ('Connection aborted.', ConnectionResetError(54, 'Connection reset by peer'))\", \"url\": \"djca.co.nz\"}\n",
      "{\"title\": \"DJCA | Everything your accountant isn\\u2019t | London Accountants\", \"description\": \"Increase your profits, reduce your costs & grow your business with your tech-powered, outsourced finance team.\", \"url\": \"djca.co.uk\"}\n",
      "{\"title\": \"Casamentos | S\\u00e3o Bernardo do Campo | DJ Casamento ABC\", \"description\": \"DJ para Casamento ABC tem de tudo para fazer uma festa de casamento inesquec\\u00edvel. Som e Ilumina\\u00e7\\u00e3o, tel\\u00e3o, festa de 15 anos, Retrospectivas, Sal\\u00e3o de Festas.\", \"url\": \"djcasamentoabc.com.br\"}\n",
      "{\"error\": \"ConnectionError HTTPSConnectionPool(host='djcastro.com', port=443): Max retries exceeded with url: / (Caused by NameResolutionError(\\\"<urllib3.connection.HTTPSConnection object at 0x16fd93c10>: Failed to resolve 'djcastro.com' ([Errno 8] nodename nor servname provided, or not known)\\\"))\", \"url\": \"djcastro.com\"}\n",
      "{\"title\": \"DJCO\", \"description\": null, \"url\": \"djco.com.au\"}\n",
      "{\"error\": \"ConnectionError ('Connection aborted.', ConnectionResetError(54, 'Connection reset by peer'))\", \"url\": \"djcombo.com\"}\n",
      "{\"error\": \"ConnectionError ('Connection aborted.', ConnectionResetError(54, 'Connection reset by peer'))\", \"url\": \"djcommerce.com\"}\n",
      "{\"error\": \"ConnectionError ('Connection aborted.', ConnectionResetError(54, 'Connection reset by peer'))\", \"url\": \"djcpo.com\"}\n",
      "{'status_code': 403, 'url': 'https://djcre.com'}\n"
     ]
    },
    {
     "ename": "TypeError",
     "evalue": "the JSON object must be str, bytes or bytearray, not dict",
     "output_type": "error",
     "traceback": [
      "\u001b[0;31m---------------------------------------------------------------------------\u001b[0m",
      "\u001b[0;31mTypeError\u001b[0m                                 Traceback (most recent call last)",
      "Cell \u001b[0;32mIn[14], line 3\u001b[0m\n\u001b[1;32m      1\u001b[0m \u001b[38;5;28;01mfor\u001b[39;00m i \u001b[38;5;129;01min\u001b[39;00m d:\n\u001b[1;32m      2\u001b[0m     \u001b[38;5;28mprint\u001b[39m(i)\n\u001b[0;32m----> 3\u001b[0m     \u001b[43mjson\u001b[49m\u001b[38;5;241;43m.\u001b[39;49m\u001b[43mloads\u001b[49m\u001b[43m(\u001b[49m\u001b[43mi\u001b[49m\u001b[43m)\u001b[49m\n",
      "File \u001b[0;32m~/miniconda3/lib/python3.11/json/__init__.py:339\u001b[0m, in \u001b[0;36mloads\u001b[0;34m(s, cls, object_hook, parse_float, parse_int, parse_constant, object_pairs_hook, **kw)\u001b[0m\n\u001b[1;32m    337\u001b[0m \u001b[38;5;28;01melse\u001b[39;00m:\n\u001b[1;32m    338\u001b[0m     \u001b[38;5;28;01mif\u001b[39;00m \u001b[38;5;129;01mnot\u001b[39;00m \u001b[38;5;28misinstance\u001b[39m(s, (\u001b[38;5;28mbytes\u001b[39m, \u001b[38;5;28mbytearray\u001b[39m)):\n\u001b[0;32m--> 339\u001b[0m         \u001b[38;5;28;01mraise\u001b[39;00m \u001b[38;5;167;01mTypeError\u001b[39;00m(\u001b[38;5;124mf\u001b[39m\u001b[38;5;124m'\u001b[39m\u001b[38;5;124mthe JSON object must be str, bytes or bytearray, \u001b[39m\u001b[38;5;124m'\u001b[39m\n\u001b[1;32m    340\u001b[0m                         \u001b[38;5;124mf\u001b[39m\u001b[38;5;124m'\u001b[39m\u001b[38;5;124mnot \u001b[39m\u001b[38;5;132;01m{\u001b[39;00ms\u001b[38;5;241m.\u001b[39m\u001b[38;5;18m__class__\u001b[39m\u001b[38;5;241m.\u001b[39m\u001b[38;5;18m__name__\u001b[39m\u001b[38;5;132;01m}\u001b[39;00m\u001b[38;5;124m'\u001b[39m)\n\u001b[1;32m    341\u001b[0m     s \u001b[38;5;241m=\u001b[39m s\u001b[38;5;241m.\u001b[39mdecode(detect_encoding(s), \u001b[38;5;124m'\u001b[39m\u001b[38;5;124msurrogatepass\u001b[39m\u001b[38;5;124m'\u001b[39m)\n\u001b[1;32m    343\u001b[0m \u001b[38;5;28;01mif\u001b[39;00m (\u001b[38;5;28mcls\u001b[39m \u001b[38;5;129;01mis\u001b[39;00m \u001b[38;5;28;01mNone\u001b[39;00m \u001b[38;5;129;01mand\u001b[39;00m object_hook \u001b[38;5;129;01mis\u001b[39;00m \u001b[38;5;28;01mNone\u001b[39;00m \u001b[38;5;129;01mand\u001b[39;00m\n\u001b[1;32m    344\u001b[0m         parse_int \u001b[38;5;129;01mis\u001b[39;00m \u001b[38;5;28;01mNone\u001b[39;00m \u001b[38;5;129;01mand\u001b[39;00m parse_float \u001b[38;5;129;01mis\u001b[39;00m \u001b[38;5;28;01mNone\u001b[39;00m \u001b[38;5;129;01mand\u001b[39;00m\n\u001b[1;32m    345\u001b[0m         parse_constant \u001b[38;5;129;01mis\u001b[39;00m \u001b[38;5;28;01mNone\u001b[39;00m \u001b[38;5;129;01mand\u001b[39;00m object_pairs_hook \u001b[38;5;129;01mis\u001b[39;00m \u001b[38;5;28;01mNone\u001b[39;00m \u001b[38;5;129;01mand\u001b[39;00m \u001b[38;5;129;01mnot\u001b[39;00m kw):\n",
      "\u001b[0;31mTypeError\u001b[0m: the JSON object must be str, bytes or bytearray, not dict"
     ]
    }
   ],
   "source": [
    "for i in d:\n",
    "    print(i)\n",
    "    json.loads(i)"
   ]
  },
  {
   "cell_type": "code",
   "execution_count": 3,
   "metadata": {},
   "outputs": [],
   "source": [
    "import pandas as pd"
   ]
  },
  {
   "cell_type": "code",
   "execution_count": 4,
   "metadata": {},
   "outputs": [],
   "source": [
    "proxies_csv = '/Users/wqqco/Downloads/Free Proxy List 1000+ IPs.txt'"
   ]
  },
  {
   "cell_type": "code",
   "execution_count": 5,
   "metadata": {},
   "outputs": [
    {
     "data": {
      "text/html": [
       "<div>\n",
       "<style scoped>\n",
       "    .dataframe tbody tr th:only-of-type {\n",
       "        vertical-align: middle;\n",
       "    }\n",
       "\n",
       "    .dataframe tbody tr th {\n",
       "        vertical-align: top;\n",
       "    }\n",
       "\n",
       "    .dataframe thead th {\n",
       "        text-align: right;\n",
       "    }\n",
       "</style>\n",
       "<table border=\"1\" class=\"dataframe\">\n",
       "  <thead>\n",
       "    <tr style=\"text-align: right;\">\n",
       "      <th></th>\n",
       "      <th>ip</th>\n",
       "      <th>anonymityLevel</th>\n",
       "      <th>asn</th>\n",
       "      <th>country</th>\n",
       "      <th>isp</th>\n",
       "      <th>latency</th>\n",
       "      <th>org</th>\n",
       "      <th>port</th>\n",
       "      <th>protocols</th>\n",
       "      <th>speed</th>\n",
       "      <th>upTime</th>\n",
       "      <th>upTimeSuccessCount</th>\n",
       "      <th>upTimeTryCount</th>\n",
       "      <th>updated_at</th>\n",
       "      <th>responseTime</th>\n",
       "    </tr>\n",
       "  </thead>\n",
       "  <tbody>\n",
       "    <tr>\n",
       "      <th>0</th>\n",
       "      <td>203.13.32.47</td>\n",
       "      <td>elite</td>\n",
       "      <td>AS209242</td>\n",
       "      <td>CY</td>\n",
       "      <td>Cloudflare London, LLC</td>\n",
       "      <td>2</td>\n",
       "      <td>Lachtaristo Holdings Limited</td>\n",
       "      <td>80</td>\n",
       "      <td>socks4</td>\n",
       "      <td>2</td>\n",
       "      <td>100</td>\n",
       "      <td>454</td>\n",
       "      <td>454</td>\n",
       "      <td>2024-06-15T20:46:17.596Z</td>\n",
       "      <td>1895</td>\n",
       "    </tr>\n",
       "    <tr>\n",
       "      <th>1</th>\n",
       "      <td>145.239.2.102</td>\n",
       "      <td>elite</td>\n",
       "      <td>AS16276</td>\n",
       "      <td>DE</td>\n",
       "      <td>OVH SAS</td>\n",
       "      <td>83</td>\n",
       "      <td>OVH GmbH</td>\n",
       "      <td>22813</td>\n",
       "      <td>socks4</td>\n",
       "      <td>1</td>\n",
       "      <td>100</td>\n",
       "      <td>553</td>\n",
       "      <td>553</td>\n",
       "      <td>2024-06-15T20:46:16.499Z</td>\n",
       "      <td>1093</td>\n",
       "    </tr>\n",
       "    <tr>\n",
       "      <th>2</th>\n",
       "      <td>5.135.137.13</td>\n",
       "      <td>elite</td>\n",
       "      <td>AS16276</td>\n",
       "      <td>FR</td>\n",
       "      <td>OVH SAS</td>\n",
       "      <td>5</td>\n",
       "      <td>OVH SAS</td>\n",
       "      <td>59124</td>\n",
       "      <td>socks4</td>\n",
       "      <td>1</td>\n",
       "      <td>100</td>\n",
       "      <td>490</td>\n",
       "      <td>490</td>\n",
       "      <td>2024-06-15T20:46:13.102Z</td>\n",
       "      <td>1210</td>\n",
       "    </tr>\n",
       "    <tr>\n",
       "      <th>3</th>\n",
       "      <td>199.60.103.126</td>\n",
       "      <td>elite</td>\n",
       "      <td>AS209242</td>\n",
       "      <td>US</td>\n",
       "      <td>Cloudflare London, LLC</td>\n",
       "      <td>2</td>\n",
       "      <td>HubSpot, Inc.</td>\n",
       "      <td>80</td>\n",
       "      <td>socks4</td>\n",
       "      <td>5</td>\n",
       "      <td>100</td>\n",
       "      <td>7324</td>\n",
       "      <td>7324</td>\n",
       "      <td>2024-06-15T20:46:04.190Z</td>\n",
       "      <td>3206</td>\n",
       "    </tr>\n",
       "    <tr>\n",
       "      <th>4</th>\n",
       "      <td>92.205.108.94</td>\n",
       "      <td>elite</td>\n",
       "      <td>AS21499</td>\n",
       "      <td>FR</td>\n",
       "      <td>Host Europe GmbH</td>\n",
       "      <td>11</td>\n",
       "      <td>GCN SXB1</td>\n",
       "      <td>58495</td>\n",
       "      <td>socks4</td>\n",
       "      <td>5</td>\n",
       "      <td>100</td>\n",
       "      <td>588</td>\n",
       "      <td>588</td>\n",
       "      <td>2024-06-15T20:45:43.300Z</td>\n",
       "      <td>879</td>\n",
       "    </tr>\n",
       "  </tbody>\n",
       "</table>\n",
       "</div>"
      ],
      "text/plain": [
       "               ip anonymityLevel       asn country                     isp  \\\n",
       "0    203.13.32.47          elite  AS209242      CY  Cloudflare London, LLC   \n",
       "1   145.239.2.102          elite   AS16276      DE                 OVH SAS   \n",
       "2    5.135.137.13          elite   AS16276      FR                 OVH SAS   \n",
       "3  199.60.103.126          elite  AS209242      US  Cloudflare London, LLC   \n",
       "4   92.205.108.94          elite   AS21499      FR        Host Europe GmbH   \n",
       "\n",
       "   latency                           org   port protocols  speed  upTime  \\\n",
       "0        2  Lachtaristo Holdings Limited     80    socks4      2     100   \n",
       "1       83                      OVH GmbH  22813    socks4      1     100   \n",
       "2        5                       OVH SAS  59124    socks4      1     100   \n",
       "3        2                 HubSpot, Inc.     80    socks4      5     100   \n",
       "4       11                      GCN SXB1  58495    socks4      5     100   \n",
       "\n",
       "   upTimeSuccessCount  upTimeTryCount                updated_at  responseTime  \n",
       "0                 454             454  2024-06-15T20:46:17.596Z          1895  \n",
       "1                 553             553  2024-06-15T20:46:16.499Z          1093  \n",
       "2                 490             490  2024-06-15T20:46:13.102Z          1210  \n",
       "3                7324            7324  2024-06-15T20:46:04.190Z          3206  \n",
       "4                 588             588  2024-06-15T20:45:43.300Z           879  "
      ]
     },
     "execution_count": 5,
     "metadata": {},
     "output_type": "execute_result"
    }
   ],
   "source": [
    "df = pd.read_csv(proxies_csv, sep=',')\n",
    "df.head()"
   ]
  },
  {
   "cell_type": "code",
   "execution_count": 9,
   "metadata": {},
   "outputs": [],
   "source": [
    "proxy_list = (df.protocols + \"://\" + df.ip + \":\" + df.port.astype(str)).tolist()"
   ]
  },
  {
   "cell_type": "code",
   "execution_count": 10,
   "metadata": {},
   "outputs": [],
   "source": [
    "with open('proxies_example.txt', 'w') as f:\n",
    "    f.write('\\n'.join(proxy_list))"
   ]
  },
  {
   "cell_type": "code",
   "execution_count": null,
   "metadata": {},
   "outputs": [],
   "source": []
  }
 ],
 "metadata": {
  "kernelspec": {
   "display_name": "base",
   "language": "python",
   "name": "python3"
  },
  "language_info": {
   "codemirror_mode": {
    "name": "ipython",
    "version": 3
   },
   "file_extension": ".py",
   "mimetype": "text/x-python",
   "name": "python",
   "nbconvert_exporter": "python",
   "pygments_lexer": "ipython3",
   "version": "3.11.7"
  }
 },
 "nbformat": 4,
 "nbformat_minor": 2
}
